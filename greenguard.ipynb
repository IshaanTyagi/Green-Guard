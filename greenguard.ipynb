{
 "cells": [
  {
   "cell_type": "markdown",
   "id": "3fc7d060",
   "metadata": {
    "papermill": {
     "duration": 0.038582,
     "end_time": "2023-11-29T19:48:25.506131",
     "exception": false,
     "start_time": "2023-11-29T19:48:25.467549",
     "status": "completed"
    },
    "tags": []
   },
   "source": [
    "# Setup"
   ]
  },
  {
   "cell_type": "code",
   "execution_count": 1,
   "id": "2588c6d0",
   "metadata": {
    "execution": {
     "iopub.execute_input": "2023-11-29T19:48:25.591743Z",
     "iopub.status.busy": "2023-11-29T19:48:25.589088Z",
     "iopub.status.idle": "2023-11-29T19:48:27.395620Z",
     "shell.execute_reply": "2023-11-29T19:48:27.394737Z",
     "shell.execute_reply.started": "2023-11-29T19:45:25.889359Z"
    },
    "papermill": {
     "duration": 1.85517,
     "end_time": "2023-11-29T19:48:27.395855",
     "exception": false,
     "start_time": "2023-11-29T19:48:25.540685",
     "status": "completed"
    },
    "tags": []
   },
   "outputs": [],
   "source": [
    "#Importing Liabraries\n",
    "\n",
    "import numpy as np\n",
    "import pandas as pd\n",
    "\n",
    "#For data visualization\n",
    "import matplotlib.pyplot as plt\n",
    "import seaborn as sns\n",
    "\n",
    "#For interactivity\n",
    "from ipywidgets import interact\n",
    "\n",
    "#For warnings\n",
    "import warnings\n",
    "warnings.filterwarnings('ignore')\n",
    "\n",
    "#For Clustering Analysis\n",
    "from sklearn.cluster import KMeans\n",
    "from sklearn.model_selection import train_test_split\n",
    "from sklearn.linear_model import LogisticRegression\n",
    "from sklearn.metrics import classification_report\n",
    "from sklearn.metrics import confusion_matrix"
   ]
  },
  {
   "cell_type": "code",
   "execution_count": 2,
   "id": "5d0f8cf1",
   "metadata": {
    "execution": {
     "iopub.execute_input": "2023-11-29T19:48:27.475157Z",
     "iopub.status.busy": "2023-11-29T19:48:27.474249Z",
     "iopub.status.idle": "2023-11-29T19:48:27.535173Z",
     "shell.execute_reply": "2023-11-29T19:48:27.534510Z",
     "shell.execute_reply.started": "2023-11-29T19:45:25.898655Z"
    },
    "papermill": {
     "duration": 0.103397,
     "end_time": "2023-11-29T19:48:27.535345",
     "exception": false,
     "start_time": "2023-11-29T19:48:27.431948",
     "status": "completed"
    },
    "tags": []
   },
   "outputs": [
    {
     "data": {
      "text/html": [
       "<div>\n",
       "<style scoped>\n",
       "    .dataframe tbody tr th:only-of-type {\n",
       "        vertical-align: middle;\n",
       "    }\n",
       "\n",
       "    .dataframe tbody tr th {\n",
       "        vertical-align: top;\n",
       "    }\n",
       "\n",
       "    .dataframe thead th {\n",
       "        text-align: right;\n",
       "    }\n",
       "</style>\n",
       "<table border=\"1\" class=\"dataframe\">\n",
       "  <thead>\n",
       "    <tr style=\"text-align: right;\">\n",
       "      <th></th>\n",
       "      <th>N</th>\n",
       "      <th>P</th>\n",
       "      <th>K</th>\n",
       "      <th>temperature</th>\n",
       "      <th>humidity</th>\n",
       "      <th>ph</th>\n",
       "      <th>rainfall</th>\n",
       "      <th>label</th>\n",
       "    </tr>\n",
       "  </thead>\n",
       "  <tbody>\n",
       "    <tr>\n",
       "      <th>0</th>\n",
       "      <td>90</td>\n",
       "      <td>42</td>\n",
       "      <td>43</td>\n",
       "      <td>20.879744</td>\n",
       "      <td>82.002744</td>\n",
       "      <td>6.502985</td>\n",
       "      <td>202.935536</td>\n",
       "      <td>rice</td>\n",
       "    </tr>\n",
       "    <tr>\n",
       "      <th>1</th>\n",
       "      <td>85</td>\n",
       "      <td>58</td>\n",
       "      <td>41</td>\n",
       "      <td>21.770462</td>\n",
       "      <td>80.319644</td>\n",
       "      <td>7.038096</td>\n",
       "      <td>226.655537</td>\n",
       "      <td>rice</td>\n",
       "    </tr>\n",
       "    <tr>\n",
       "      <th>2</th>\n",
       "      <td>60</td>\n",
       "      <td>55</td>\n",
       "      <td>44</td>\n",
       "      <td>23.004459</td>\n",
       "      <td>82.320763</td>\n",
       "      <td>7.840207</td>\n",
       "      <td>263.964248</td>\n",
       "      <td>rice</td>\n",
       "    </tr>\n",
       "    <tr>\n",
       "      <th>3</th>\n",
       "      <td>74</td>\n",
       "      <td>35</td>\n",
       "      <td>40</td>\n",
       "      <td>26.491096</td>\n",
       "      <td>80.158363</td>\n",
       "      <td>6.980401</td>\n",
       "      <td>242.864034</td>\n",
       "      <td>rice</td>\n",
       "    </tr>\n",
       "    <tr>\n",
       "      <th>4</th>\n",
       "      <td>78</td>\n",
       "      <td>42</td>\n",
       "      <td>42</td>\n",
       "      <td>20.130175</td>\n",
       "      <td>81.604873</td>\n",
       "      <td>7.628473</td>\n",
       "      <td>262.717340</td>\n",
       "      <td>rice</td>\n",
       "    </tr>\n",
       "    <tr>\n",
       "      <th>...</th>\n",
       "      <td>...</td>\n",
       "      <td>...</td>\n",
       "      <td>...</td>\n",
       "      <td>...</td>\n",
       "      <td>...</td>\n",
       "      <td>...</td>\n",
       "      <td>...</td>\n",
       "      <td>...</td>\n",
       "    </tr>\n",
       "    <tr>\n",
       "      <th>2195</th>\n",
       "      <td>107</td>\n",
       "      <td>34</td>\n",
       "      <td>32</td>\n",
       "      <td>26.774637</td>\n",
       "      <td>66.413269</td>\n",
       "      <td>6.780064</td>\n",
       "      <td>177.774507</td>\n",
       "      <td>coffee</td>\n",
       "    </tr>\n",
       "    <tr>\n",
       "      <th>2196</th>\n",
       "      <td>99</td>\n",
       "      <td>15</td>\n",
       "      <td>27</td>\n",
       "      <td>27.417112</td>\n",
       "      <td>56.636362</td>\n",
       "      <td>6.086922</td>\n",
       "      <td>127.924610</td>\n",
       "      <td>coffee</td>\n",
       "    </tr>\n",
       "    <tr>\n",
       "      <th>2197</th>\n",
       "      <td>118</td>\n",
       "      <td>33</td>\n",
       "      <td>30</td>\n",
       "      <td>24.131797</td>\n",
       "      <td>67.225123</td>\n",
       "      <td>6.362608</td>\n",
       "      <td>173.322839</td>\n",
       "      <td>coffee</td>\n",
       "    </tr>\n",
       "    <tr>\n",
       "      <th>2198</th>\n",
       "      <td>117</td>\n",
       "      <td>32</td>\n",
       "      <td>34</td>\n",
       "      <td>26.272418</td>\n",
       "      <td>52.127394</td>\n",
       "      <td>6.758793</td>\n",
       "      <td>127.175293</td>\n",
       "      <td>coffee</td>\n",
       "    </tr>\n",
       "    <tr>\n",
       "      <th>2199</th>\n",
       "      <td>104</td>\n",
       "      <td>18</td>\n",
       "      <td>30</td>\n",
       "      <td>23.603016</td>\n",
       "      <td>60.396475</td>\n",
       "      <td>6.779833</td>\n",
       "      <td>140.937041</td>\n",
       "      <td>coffee</td>\n",
       "    </tr>\n",
       "  </tbody>\n",
       "</table>\n",
       "<p>2200 rows × 8 columns</p>\n",
       "</div>"
      ],
      "text/plain": [
       "        N   P   K  temperature   humidity        ph    rainfall   label\n",
       "0      90  42  43    20.879744  82.002744  6.502985  202.935536    rice\n",
       "1      85  58  41    21.770462  80.319644  7.038096  226.655537    rice\n",
       "2      60  55  44    23.004459  82.320763  7.840207  263.964248    rice\n",
       "3      74  35  40    26.491096  80.158363  6.980401  242.864034    rice\n",
       "4      78  42  42    20.130175  81.604873  7.628473  262.717340    rice\n",
       "...   ...  ..  ..          ...        ...       ...         ...     ...\n",
       "2195  107  34  32    26.774637  66.413269  6.780064  177.774507  coffee\n",
       "2196   99  15  27    27.417112  56.636362  6.086922  127.924610  coffee\n",
       "2197  118  33  30    24.131797  67.225123  6.362608  173.322839  coffee\n",
       "2198  117  32  34    26.272418  52.127394  6.758793  127.175293  coffee\n",
       "2199  104  18  30    23.603016  60.396475  6.779833  140.937041  coffee\n",
       "\n",
       "[2200 rows x 8 columns]"
      ]
     },
     "execution_count": 2,
     "metadata": {},
     "output_type": "execute_result"
    }
   ],
   "source": [
    "#Loading Dataset\n",
    "data = pd.read_csv('../input/crop-recommendation/Crop_recommendation.csv')\n",
    "data"
   ]
  },
  {
   "cell_type": "markdown",
   "id": "bbea7ed6",
   "metadata": {
    "papermill": {
     "duration": 0.033861,
     "end_time": "2023-11-29T19:48:27.606878",
     "exception": false,
     "start_time": "2023-11-29T19:48:27.573017",
     "status": "completed"
    },
    "tags": []
   },
   "source": [
    "# 1.Exploratory Data Analysis"
   ]
  },
  {
   "cell_type": "code",
   "execution_count": 3,
   "id": "b3b07f0a",
   "metadata": {
    "execution": {
     "iopub.execute_input": "2023-11-29T19:48:27.682405Z",
     "iopub.status.busy": "2023-11-29T19:48:27.681577Z",
     "iopub.status.idle": "2023-11-29T19:48:27.687551Z",
     "shell.execute_reply": "2023-11-29T19:48:27.688230Z",
     "shell.execute_reply.started": "2023-11-29T19:45:25.952558Z"
    },
    "papermill": {
     "duration": 0.044773,
     "end_time": "2023-11-29T19:48:27.688739",
     "exception": false,
     "start_time": "2023-11-29T19:48:27.643966",
     "status": "completed"
    },
    "tags": []
   },
   "outputs": [
    {
     "name": "stdout",
     "output_type": "stream",
     "text": [
      "Shape of the dataset : (2200, 8)\n"
     ]
    }
   ],
   "source": [
    "#Shape of dataset\n",
    "print(\"Shape of the dataset :\",data.shape)"
   ]
  },
  {
   "cell_type": "code",
   "execution_count": 4,
   "id": "7b892f53",
   "metadata": {
    "execution": {
     "iopub.execute_input": "2023-11-29T19:48:27.766783Z",
     "iopub.status.busy": "2023-11-29T19:48:27.765884Z",
     "iopub.status.idle": "2023-11-29T19:48:27.777856Z",
     "shell.execute_reply": "2023-11-29T19:48:27.777029Z",
     "shell.execute_reply.started": "2023-11-29T19:45:25.961381Z"
    },
    "papermill": {
     "duration": 0.05259,
     "end_time": "2023-11-29T19:48:27.778064",
     "exception": false,
     "start_time": "2023-11-29T19:48:27.725474",
     "status": "completed"
    },
    "tags": []
   },
   "outputs": [
    {
     "data": {
      "text/plain": [
       "N              0\n",
       "P              0\n",
       "K              0\n",
       "temperature    0\n",
       "humidity       0\n",
       "ph             0\n",
       "rainfall       0\n",
       "label          0\n",
       "dtype: int64"
      ]
     },
     "execution_count": 4,
     "metadata": {},
     "output_type": "execute_result"
    }
   ],
   "source": [
    "#Checking missing values\n",
    "data.isnull().sum()"
   ]
  },
  {
   "cell_type": "code",
   "execution_count": 5,
   "id": "8b7d7237",
   "metadata": {
    "execution": {
     "iopub.execute_input": "2023-11-29T19:48:27.869853Z",
     "iopub.status.busy": "2023-11-29T19:48:27.868711Z",
     "iopub.status.idle": "2023-11-29T19:48:27.875080Z",
     "shell.execute_reply": "2023-11-29T19:48:27.873975Z",
     "shell.execute_reply.started": "2023-11-29T19:45:25.984184Z"
    },
    "papermill": {
     "duration": 0.059531,
     "end_time": "2023-11-29T19:48:27.875396",
     "exception": false,
     "start_time": "2023-11-29T19:48:27.815865",
     "status": "completed"
    },
    "tags": []
   },
   "outputs": [
    {
     "data": {
      "text/plain": [
       "cotton         100\n",
       "apple          100\n",
       "kidneybeans    100\n",
       "banana         100\n",
       "jute           100\n",
       "coffee         100\n",
       "coconut        100\n",
       "papaya         100\n",
       "mango          100\n",
       "mungbean       100\n",
       "grapes         100\n",
       "pigeonpeas     100\n",
       "chickpea       100\n",
       "mothbeans      100\n",
       "pomegranate    100\n",
       "orange         100\n",
       "rice           100\n",
       "blackgram      100\n",
       "muskmelon      100\n",
       "maize          100\n",
       "watermelon     100\n",
       "lentil         100\n",
       "Name: label, dtype: int64"
      ]
     },
     "execution_count": 5,
     "metadata": {},
     "output_type": "execute_result"
    }
   ],
   "source": [
    "#Checking Crops present in Dataset\n",
    "data['label'].value_counts()"
   ]
  },
  {
   "cell_type": "code",
   "execution_count": 6,
   "id": "24a33770",
   "metadata": {
    "execution": {
     "iopub.execute_input": "2023-11-29T19:48:27.960382Z",
     "iopub.status.busy": "2023-11-29T19:48:27.959359Z",
     "iopub.status.idle": "2023-11-29T19:48:27.973249Z",
     "shell.execute_reply": "2023-11-29T19:48:27.974086Z",
     "shell.execute_reply.started": "2023-11-29T19:45:25.998072Z"
    },
    "papermill": {
     "duration": 0.056561,
     "end_time": "2023-11-29T19:48:27.974307",
     "exception": false,
     "start_time": "2023-11-29T19:48:27.917746",
     "status": "completed"
    },
    "tags": []
   },
   "outputs": [
    {
     "name": "stdout",
     "output_type": "stream",
     "text": [
      "Average Ratio of nitrogen in the soil :  50.55\n",
      "Average Ratio of Phosphorous in the soil :  53.36\n",
      "Average Ratio of Potassium in the soil :  48.15\n",
      "Average temperature in Celsius :  25.62\n",
      "Average Relative Humidity in % is :  71.48\n",
      "Average pH value of the soil :  6.47\n",
      "Average Rain fall in mm :  103.46\n"
     ]
    }
   ],
   "source": [
    "#Checking the Statistics for all the crops\n",
    "print(\"Average Ratio of nitrogen in the soil : {0: .2f}\".format(data['N'].mean()))\n",
    "print(\"Average Ratio of Phosphorous in the soil : {0: .2f}\".format(data['P'].mean()))\n",
    "print(\"Average Ratio of Potassium in the soil : {0: .2f}\".format(data['K'].mean()))\n",
    "print(\"Average temperature in Celsius : {0: .2f}\".format(data['temperature'].mean()))\n",
    "print(\"Average Relative Humidity in % is : {0: .2f}\".format(data['humidity'].mean()))\n",
    "print(\"Average pH value of the soil : {0: .2f}\".format(data['ph'].mean()))\n",
    "print(\"Average Rain fall in mm : {0: .2f}\".format(data['rainfall'].mean()))"
   ]
  },
  {
   "cell_type": "markdown",
   "id": "731d9544",
   "metadata": {
    "papermill": {
     "duration": 0.036604,
     "end_time": "2023-11-29T19:48:28.046873",
     "exception": false,
     "start_time": "2023-11-29T19:48:28.010269",
     "status": "completed"
    },
    "tags": []
   },
   "source": [
    "#### Above shows that nitrogen,Phosphorous and potassium should be around 50%\n",
    "#### Temperature should be around 25°C and Humidity around 70%\n",
    "#### Rain fall should be around 100mm and PH should be arount 7"
   ]
  },
  {
   "cell_type": "code",
   "execution_count": 7,
   "id": "c030874b",
   "metadata": {
    "execution": {
     "iopub.execute_input": "2023-11-29T19:48:28.134272Z",
     "iopub.status.busy": "2023-11-29T19:48:28.133187Z",
     "iopub.status.idle": "2023-11-29T19:48:28.207088Z",
     "shell.execute_reply": "2023-11-29T19:48:28.206365Z",
     "shell.execute_reply.started": "2023-11-29T19:45:26.018281Z"
    },
    "papermill": {
     "duration": 0.121143,
     "end_time": "2023-11-29T19:48:28.207276",
     "exception": false,
     "start_time": "2023-11-29T19:48:28.086133",
     "status": "completed"
    },
    "tags": []
   },
   "outputs": [
    {
     "data": {
      "application/vnd.jupyter.widget-view+json": {
       "model_id": "085890da767e43aa863e0230d193aa5a",
       "version_major": 2,
       "version_minor": 0
      },
      "text/plain": [
       "interactive(children=(Dropdown(description='crops', options=('cotton', 'apple', 'kidneybeans', 'banana', 'jute…"
      ]
     },
     "metadata": {},
     "output_type": "display_data"
    }
   ],
   "source": [
    "#Checking Statistics for each Crop\n",
    "\n",
    "@interact\n",
    "def summary(crops = list(data['label'].value_counts().index)):\n",
    "    x = data[data['label'] == crops]\n",
    "    print(\"-------------------------------------------------\")\n",
    "    print(\"Statistics for Nitrogen :\")\n",
    "    print(\"Minimum Nitrogen Required :\", x['N'].min())\n",
    "    print(\"Average Nitrogen Required :\", x['N'].mean())\n",
    "    print(\"Maximum Nitrogen Required :\", x['N'].max())\n",
    "    print(\"-------------------------------------------------\")\n",
    "    print(\"Statistics for Phosphorous :\")\n",
    "    print(\"Minimum Phosphorous Required :\", x['P'].min())\n",
    "    print(\"Average Phosphorous Required :\", x['P'].mean())\n",
    "    print(\"Maximum Phosphorous Required :\", x['P'].max())\n",
    "    print(\"-------------------------------------------------\")\n",
    "    print(\"Statistics for Potassium :\")\n",
    "    print(\"Minimum Potassium Required :\", x['K'].min())\n",
    "    print(\"Average Potassium Required :\", x['K'].mean())\n",
    "    print(\"Maximum Potassium Required :\", x['K'].max())\n",
    "    print(\"-------------------------------------------------\")\n",
    "    print(\"Statistics for Temperature :\")\n",
    "    print(\"Minimum Temperature Required : {0: .2f}\".format(x['temperature'].min()))\n",
    "    print(\"Average Temperature Required : {0: .2f}\".format(x['temperature'].mean()))\n",
    "    print(\"Maximum Temperature Required : {0: .2f}\".format(x['temperature'].max()))\n",
    "    print(\"-------------------------------------------------\")\n",
    "    print(\"Statistics for Humidity :\")\n",
    "    print(\"Minimum Humidity Required : {0: .2f}\".format(x['humidity'].min()))\n",
    "    print(\"Average Humidity Required : {0: .2f}\".format(x['humidity'].mean()))\n",
    "    print(\"Maximum Humidity Required : {0: .2f}\".format(x['humidity'].max()))\n",
    "    print(\"-------------------------------------------------\")\n",
    "    print(\"Statistics for PH :\")\n",
    "    print(\"Minimum PH Required : {0: .2f}\".format(x['ph'].min()))\n",
    "    print(\"Average PH Required : {0: .2f}\".format(x['ph'].mean()))\n",
    "    print(\"Maximum PH Required : {0: .2f}\".format(x['ph'].max()))\n",
    "    print(\"-------------------------------------------------\")\n",
    "    print(\"Statistics for Rainfall :\")\n",
    "    print(\"Minimum Rainfall Required : {0: .2f}\".format(x['rainfall'].min()))\n",
    "    print(\"Average Rainfall Required : {0: .2f}\".format(x['rainfall'].mean()))\n",
    "    print(\"Maximum Rainfall Required : {0: .2f}\".format(x['rainfall'].max()))\n",
    "    print(\"-------------------------------------------------\")\n",
    "    "
   ]
  },
  {
   "cell_type": "markdown",
   "id": "3993628e",
   "metadata": {
    "papermill": {
     "duration": 0.041008,
     "end_time": "2023-11-29T19:48:28.287576",
     "exception": false,
     "start_time": "2023-11-29T19:48:28.246568",
     "status": "completed"
    },
    "tags": []
   },
   "source": [
    "#### We can find statistics of any other crop by selecting on drop down list"
   ]
  },
  {
   "cell_type": "code",
   "execution_count": 8,
   "id": "a4b4dd4e",
   "metadata": {
    "execution": {
     "iopub.execute_input": "2023-11-29T19:48:28.400694Z",
     "iopub.status.busy": "2023-11-29T19:48:28.391483Z",
     "iopub.status.idle": "2023-11-29T19:48:28.473569Z",
     "shell.execute_reply": "2023-11-29T19:48:28.474249Z",
     "shell.execute_reply.started": "2023-11-29T19:45:26.098525Z"
    },
    "papermill": {
     "duration": 0.148872,
     "end_time": "2023-11-29T19:48:28.474481",
     "exception": false,
     "start_time": "2023-11-29T19:48:28.325609",
     "status": "completed"
    },
    "tags": []
   },
   "outputs": [
    {
     "data": {
      "application/vnd.jupyter.widget-view+json": {
       "model_id": "f7686f444611418badc371c3f858bb0f",
       "version_major": 2,
       "version_minor": 0
      },
      "text/plain": [
       "interactive(children=(Dropdown(description='conditions', options=('N', 'P', 'K', 'temperature', 'ph', 'humidit…"
      ]
     },
     "metadata": {},
     "output_type": "display_data"
    }
   ],
   "source": [
    "# Lets compare the average Requirement for eash crops with average conditions\n",
    "\n",
    "@interact\n",
    "def compare(conditions = ['N','P','K','temperature','ph','humidity','rainfall']):\n",
    "    print(\"Average Value for\",conditions,\"is {0: .2f}\".format(data[conditions].mean()))\n",
    "    print(\"----------------------------------------------------------------\")\n",
    "    print(\"Rice : {0: .2f}\".format(data[(data['label'] == 'rice')][conditions].mean()))\n",
    "    print(\"Black Grams : {0: .2f}\".format(data[(data['label'] == 'blackgram')][conditions].mean()))\n",
    "    print(\"Banana : {0: .2f}\".format(data[(data['label'] == 'banana')][conditions].mean()))\n",
    "    print(\"Jute : {0: .2f}\".format(data[(data['label'] == 'jute')][conditions].mean()))\n",
    "    print(\"Coconut : {0: .2f}\".format(data[(data['label'] == 'coconut')][conditions].mean()))\n",
    "    print(\"Apple : {0: .2f}\".format(data[(data['label'] == 'apple')][conditions].mean()))\n",
    "    print(\"Papaya : {0: .2f}\".format(data[(data['label'] == 'papaya')][conditions].mean()))\n",
    "    print(\"Muskmelon : {0: .2f}\".format(data[(data['label'] == 'muskmelon')][conditions].mean()))\n",
    "    print(\"Grapes : {0: .2f}\".format(data[(data['label'] == 'grapes')][conditions].mean()))\n",
    "    print(\"Watermelon : {0: .2f}\".format(data[(data['label'] == 'watermelon')][conditions].mean()))\n",
    "    print(\"Kedney Beans : {0: .2f}\".format(data[(data['label'] == 'kidneybeans')][conditions].mean()))\n",
    "    print(\"Mung Beans : {0: .2f}\".format(data[(data['label'] == 'mungbean')][conditions].mean()))\n",
    "    print(\"Oranges : {0: .2f}\".format(data[(data['label'] == 'orange')][conditions].mean()))\n",
    "    print(\"Chick Peas : {0: .2f}\".format(data[(data['label'] == 'chickpea')][conditions].mean()))\n",
    "    print(\"Lentils : {0: .2f}\".format(data[(data['label'] == 'lentil')][conditions].mean()))\n",
    "    print(\"Cotton : {0: .2f}\".format(data[(data['label'] == 'cotton')][conditions].mean()))\n",
    "    print(\"Maize : {0: .2f}\".format(data[(data['label'] == 'maize')][conditions].mean()))\n",
    "    print(\"Moth Beans : {0: .2f}\".format(data[(data['label'] == 'mothbeans')][conditions].mean()))\n",
    "    print(\"Pigeon peas : {0: .2f}\".format(data[(data['label'] == 'pigeonpeas')][conditions].mean()))\n",
    "    print(\"Mango : {0: .2f}\".format(data[(data['label'] == 'mango')][conditions].mean()))\n",
    "    print(\"Pomegrante : {0: .2f}\".format(data[(data['label'] == 'pomegrante')][conditions].mean()))\n",
    "    print(\"Coffee : {0: .2f}\".format(data[(data['label'] == 'coffee')][conditions].mean()))\n",
    "    "
   ]
  },
  {
   "cell_type": "markdown",
   "id": "c983bbef",
   "metadata": {
    "papermill": {
     "duration": 0.041419,
     "end_time": "2023-11-29T19:48:28.558082",
     "exception": false,
     "start_time": "2023-11-29T19:48:28.516663",
     "status": "completed"
    },
    "tags": []
   },
   "source": [
    "### We can find rainfall,temperature,humidity,Nitrogen,Potassium,Phosphorous and ph value of every individual crop by selecting on the drop down menu."
   ]
  },
  {
   "cell_type": "code",
   "execution_count": 9,
   "id": "e275e69a",
   "metadata": {
    "execution": {
     "iopub.execute_input": "2023-11-29T19:48:28.674529Z",
     "iopub.status.busy": "2023-11-29T19:48:28.673685Z",
     "iopub.status.idle": "2023-11-29T19:48:31.086136Z",
     "shell.execute_reply": "2023-11-29T19:48:31.086828Z",
     "shell.execute_reply.started": "2023-11-29T19:45:26.196353Z"
    },
    "papermill": {
     "duration": 2.48836,
     "end_time": "2023-11-29T19:48:31.087055",
     "exception": false,
     "start_time": "2023-11-29T19:48:28.598695",
     "status": "completed"
    },
    "tags": []
   },
   "outputs": [
    {
     "data": {
      "image/png": "[encoded data removed]",
      "text/plain": [
       "<Figure size 1080x576 with 7 Axes>"
      ]
     },
     "metadata": {
      "needs_background": "light"
     },
     "output_type": "display_data"
    }
   ],
   "source": [
    "#Distribution for Agricultural Conditions\n",
    "plt.figure(figsize=(15,8))\n",
    "plt.subplot(2,4,1)\n",
    "sns.distplot(data['N'],color = 'blue')\n",
    "plt.xlabel('Ratio of Nitrogen',fontsize = 12)\n",
    "plt.grid()\n",
    "\n",
    "plt.subplot(2,4,2)\n",
    "sns.distplot(data['P'],color = 'green')\n",
    "plt.xlabel('Ratio of Phosphorous',fontsize = 12)\n",
    "plt.grid()\n",
    "\n",
    "plt.subplot(2,4,3)\n",
    "sns.distplot(data['K'],color = 'darkblue')\n",
    "plt.xlabel('Ratio of Potassium',fontsize = 12)\n",
    "plt.grid()\n",
    "\n",
    "plt.subplot(2,4,4)\n",
    "sns.distplot(data['temperature'],color = 'black')\n",
    "plt.xlabel('Temperature',fontsize = 12)\n",
    "plt.grid()\n",
    "\n",
    "plt.subplot(2,4,5)\n",
    "sns.distplot(data['rainfall'],color = 'grey')\n",
    "plt.xlabel('Rainfall',fontsize = 12)\n",
    "plt.grid()\n",
    "\n",
    "plt.subplot(2,4,6)\n",
    "sns.distplot(data['humidity'],color = 'lightgreen')\n",
    "plt.xlabel('Humidity',fontsize = 12)\n",
    "plt.grid()\n",
    "\n",
    "plt.subplot(2,4,7)\n",
    "sns.distplot(data['ph'],color = 'darkgreen')\n",
    "plt.xlabel('ph level',fontsize = 12)\n",
    "plt.grid()\n",
    "\n",
    "plt.suptitle('Distribution for Agricultural Conditions', fontsize = 20)\n",
    "plt.show()"
   ]
  },
  {
   "cell_type": "markdown",
   "id": "ca2c04ce",
   "metadata": {
    "papermill": {
     "duration": 0.04169,
     "end_time": "2023-11-29T19:48:31.173968",
     "exception": false,
     "start_time": "2023-11-29T19:48:31.132278",
     "status": "completed"
    },
    "tags": []
   },
   "source": [
    "# 2.Hidden Patterns"
   ]
  },
  {
   "cell_type": "code",
   "execution_count": 10,
   "id": "ef1dc6a8",
   "metadata": {
    "execution": {
     "iopub.execute_input": "2023-11-29T19:48:31.293851Z",
     "iopub.status.busy": "2023-11-29T19:48:31.292702Z",
     "iopub.status.idle": "2023-11-29T19:48:31.317151Z",
     "shell.execute_reply": "2023-11-29T19:48:31.315715Z",
     "shell.execute_reply.started": "2023-11-29T19:45:28.268753Z"
    },
    "papermill": {
     "duration": 0.101726,
     "end_time": "2023-11-29T19:48:31.317397",
     "exception": false,
     "start_time": "2023-11-29T19:48:31.215671",
     "status": "completed"
    },
    "tags": []
   },
   "outputs": [
    {
     "data": {
      "application/vnd.jupyter.widget-view+json": {
       "model_id": "5b4e2f9852264f0d94c4bbbbaf0a6ecf",
       "version_major": 2,
       "version_minor": 0
      },
      "text/plain": [
       "interactive(children=(Dropdown(description='conditions', options=('N', 'P', 'K', 'temperature', 'ph', 'humidit…"
      ]
     },
     "metadata": {},
     "output_type": "display_data"
    }
   ],
   "source": [
    "# Crops requires more rainfall,temperature,humidity,Nitrogen,Potassium,Phosphorous and ph value VS Crops requires Less \n",
    "@interact\n",
    "def compare(conditions = ['N','P','K','temperature','ph','humidity','rainfall']):\n",
    "    print(\"Crops which require greater than average\",conditions,'\\n')\n",
    "    print(data[data[conditions] > data[conditions].mean()]['label'].unique())\n",
    "    print(\"-------------------------------------------------------\")\n",
    "    print(\"Crops which require less than average\",conditions,'\\n')\n",
    "    print(data[data[conditions] <= data[conditions].mean()]['label'].unique())"
   ]
  },
  {
   "cell_type": "code",
   "execution_count": 11,
   "id": "a7e3527a",
   "metadata": {
    "execution": {
     "iopub.execute_input": "2023-11-29T19:48:31.423369Z",
     "iopub.status.busy": "2023-11-29T19:48:31.422540Z",
     "iopub.status.idle": "2023-11-29T19:48:31.426735Z",
     "shell.execute_reply": "2023-11-29T19:48:31.427425Z",
     "shell.execute_reply.started": "2023-11-29T19:45:28.324352Z"
    },
    "papermill": {
     "duration": 0.062375,
     "end_time": "2023-11-29T19:48:31.427756",
     "exception": false,
     "start_time": "2023-11-29T19:48:31.365381",
     "status": "completed"
    },
    "tags": []
   },
   "outputs": [
    {
     "name": "stdout",
     "output_type": "stream",
     "text": [
      "Crops which requires very High rainfall: ['rice' 'papaya' 'coconut']\n",
      "Crops which requires very Low rainfall: ['mothbeans' 'mungbean' 'lentil' 'muskmelon']\n"
     ]
    }
   ],
   "source": [
    "# Crops which Require more Rainfall vs Crops which Require Less Rainfall\n",
    "print(\"Crops which requires very High rainfall:\",data[data['rainfall'] > 200]['label'].unique())\n",
    "print(\"Crops which requires very Low rainfall:\",data[data['rainfall'] < 40]['label'].unique())"
   ]
  },
  {
   "cell_type": "code",
   "execution_count": 12,
   "id": "0fae900d",
   "metadata": {
    "execution": {
     "iopub.execute_input": "2023-11-29T19:48:31.524276Z",
     "iopub.status.busy": "2023-11-29T19:48:31.523336Z",
     "iopub.status.idle": "2023-11-29T19:48:31.558045Z",
     "shell.execute_reply": "2023-11-29T19:48:31.558663Z",
     "shell.execute_reply.started": "2023-11-29T19:45:28.340267Z"
    },
    "papermill": {
     "duration": 0.085677,
     "end_time": "2023-11-29T19:48:31.558945",
     "exception": false,
     "start_time": "2023-11-29T19:48:31.473268",
     "status": "completed"
    },
    "tags": []
   },
   "outputs": [
    {
     "name": "stdout",
     "output_type": "stream",
     "text": [
      "Crops which requires very High ratio of Nitrogen Content in soil : ['cotton']\n",
      "Crops which requires very High ratio of Phosphorous Content in soil : ['grapes' 'apple']\n",
      "Crops which requires very High ratio of Potassium Content in soil : ['grapes' 'apple']\n",
      "Crops which requires very High Rainfall : ['rice' 'papaya' 'coconut']\n",
      "Crops which requires very Low Rainfall: ['mothbeans' 'mungbean' 'lentil' 'muskmelon']\n",
      "Crops which requires very Low Temperature : ['grapes']\n",
      "Crops which requires very High Temperature : ['grapes' 'papaya']\n",
      "Crops which requires very Low Humidity : ['chickpea' 'kidneybeans']\n",
      "Crops which requires very Low pH : ['mothbeans']\n",
      "Crops which requires very High pH : ['chickpea' 'mothbeans']\n"
     ]
    }
   ],
   "source": [
    "print(\"Crops which requires very High ratio of Nitrogen Content in soil :\",data[data['N'] > 120]['label'].unique())\n",
    "print(\"Crops which requires very High ratio of Phosphorous Content in soil :\",data[data['P'] > 100]['label'].unique())\n",
    "print(\"Crops which requires very High ratio of Potassium Content in soil :\",data[data['K'] > 200]['label'].unique())\n",
    "print(\"Crops which requires very High Rainfall :\",data[data['rainfall'] > 200]['label'].unique())\n",
    "print(\"Crops which requires very Low Rainfall:\",data[data['rainfall'] < 40]['label'].unique())\n",
    "print(\"Crops which requires very Low Temperature :\",data[data['temperature'] < 10]['label'].unique())\n",
    "print(\"Crops which requires very High Temperature :\",data[data['temperature'] > 40]['label'].unique())\n",
    "print(\"Crops which requires very Low Humidity :\",data[data['humidity'] < 20]['label'].unique())\n",
    "print(\"Crops which requires very Low pH :\",data[data['ph'] < 4]['label'].unique())\n",
    "print(\"Crops which requires very High pH :\",data[data['ph'] > 8]['label'].unique())"
   ]
  },
  {
   "cell_type": "code",
   "execution_count": 13,
   "id": "4f7008b2",
   "metadata": {
    "execution": {
     "iopub.execute_input": "2023-11-29T19:48:31.653835Z",
     "iopub.status.busy": "2023-11-29T19:48:31.652473Z",
     "iopub.status.idle": "2023-11-29T19:48:31.670205Z",
     "shell.execute_reply": "2023-11-29T19:48:31.669507Z",
     "shell.execute_reply.started": "2023-11-29T19:45:28.372371Z"
    },
    "papermill": {
     "duration": 0.067641,
     "end_time": "2023-11-29T19:48:31.670397",
     "exception": false,
     "start_time": "2023-11-29T19:48:31.602756",
     "status": "completed"
    },
    "tags": []
   },
   "outputs": [
    {
     "name": "stdout",
     "output_type": "stream",
     "text": [
      "Summer Crops\n",
      "['pigeonpeas' 'mothbeans' 'blackgram' 'mango' 'grapes' 'orange' 'papaya']\n",
      "--------------------------------------------------------------------------\n",
      "Winter Crops\n",
      "['maize' 'pigeonpeas' 'lentil' 'pomegranate' 'grapes' 'orange']\n",
      "--------------------------------------------------------------------------\n",
      "Rainy Crops\n",
      "['rice' 'papaya' 'coconut']\n"
     ]
    }
   ],
   "source": [
    "# By using dataset, Find the best suitable Crop for Summer Season,Winter Season and Rainy Season\n",
    "print(\"Summer Crops\")\n",
    "print(data[(data['temperature'] > 30) & (data['humidity'] > 50)]['label'].unique())\n",
    "print(\"--------------------------------------------------------------------------\")\n",
    "print(\"Winter Crops\")\n",
    "print(data[(data['temperature'] < 20) & (data['humidity'] > 30)]['label'].unique())\n",
    "print(\"--------------------------------------------------------------------------\")\n",
    "print(\"Rainy Crops\")\n",
    "print(data[(data['rainfall'] > 200) & (data['humidity'] > 30)]['label'].unique())"
   ]
  },
  {
   "cell_type": "markdown",
   "id": "83392685",
   "metadata": {
    "papermill": {
     "duration": 0.044601,
     "end_time": "2023-11-29T19:48:31.761847",
     "exception": false,
     "start_time": "2023-11-29T19:48:31.717246",
     "status": "completed"
    },
    "tags": []
   },
   "source": [
    "# 3.Clustering Analysis"
   ]
  },
  {
   "cell_type": "code",
   "execution_count": 14,
   "id": "3cfb579e",
   "metadata": {
    "execution": {
     "iopub.execute_input": "2023-11-29T19:48:31.859927Z",
     "iopub.status.busy": "2023-11-29T19:48:31.859143Z",
     "iopub.status.idle": "2023-11-29T19:48:31.869538Z",
     "shell.execute_reply": "2023-11-29T19:48:31.868862Z",
     "shell.execute_reply.started": "2023-11-29T19:45:28.395444Z"
    },
    "papermill": {
     "duration": 0.061269,
     "end_time": "2023-11-29T19:48:31.869706",
     "exception": false,
     "start_time": "2023-11-29T19:48:31.808437",
     "status": "completed"
    },
    "tags": []
   },
   "outputs": [
    {
     "name": "stdout",
     "output_type": "stream",
     "text": [
      "(2200, 7)\n"
     ]
    }
   ],
   "source": [
    "#Removing the Labels column \n",
    "x = data.drop(['label'], axis=1)\n",
    "\n",
    "#Selecting all values of data\n",
    "x = x.values\n",
    "\n",
    "#Checking the shape\n",
    "print(x.shape)"
   ]
  },
  {
   "cell_type": "code",
   "execution_count": 15,
   "id": "2be21f1e",
   "metadata": {
    "execution": {
     "iopub.execute_input": "2023-11-29T19:48:31.971386Z",
     "iopub.status.busy": "2023-11-29T19:48:31.970511Z",
     "iopub.status.idle": "2023-11-29T19:48:52.133937Z",
     "shell.execute_reply": "2023-11-29T19:48:52.135279Z",
     "shell.execute_reply.started": "2023-11-29T19:45:28.406488Z"
    },
    "papermill": {
     "duration": 20.220149,
     "end_time": "2023-11-29T19:48:52.135533",
     "exception": false,
     "start_time": "2023-11-29T19:48:31.915384",
     "status": "completed"
    },
    "tags": []
   },
   "outputs": [
    {
     "data": {
      "image/png": "[encoded data removed]",
      "text/plain": [
       "<Figure size 720x288 with 1 Axes>"
      ]
     },
     "metadata": {
      "needs_background": "light"
     },
     "output_type": "display_data"
    }
   ],
   "source": [
    "#Determining Optimum number of Clusters within Dataset by using K-means Clustering\n",
    "plt.rcParams['figure.figsize'] = (10,4)\n",
    "\n",
    "wcss = []\n",
    "for i in range(1,11):\n",
    "    km = KMeans(n_clusters = i,init = 'k-means++',max_iter = 300, n_init = 10, random_state = 0)\n",
    "    km.fit(x)\n",
    "    wcss.append(km.inertia_)\n",
    "    \n",
    "#Plotting the Results\n",
    "plt.plot(range(1,11),wcss)\n",
    "plt.title('The Elbow Method',fontsize = 20)\n",
    "plt.xlabel('No. of Cluster')\n",
    "plt.ylabel('wcss')\n",
    "plt.show()"
   ]
  },
  {
   "cell_type": "markdown",
   "id": "0ac2e1d9",
   "metadata": {
    "papermill": {
     "duration": 0.049938,
     "end_time": "2023-11-29T19:48:52.238609",
     "exception": false,
     "start_time": "2023-11-29T19:48:52.188671",
     "status": "completed"
    },
    "tags": []
   },
   "source": [
    "### By using Elbow method,we concluded that dataset consists of four clusters."
   ]
  },
  {
   "cell_type": "code",
   "execution_count": 16,
   "id": "bde46183",
   "metadata": {
    "execution": {
     "iopub.execute_input": "2023-11-29T19:48:52.359907Z",
     "iopub.status.busy": "2023-11-29T19:48:52.358385Z",
     "iopub.status.idle": "2023-11-29T19:48:53.500074Z",
     "shell.execute_reply": "2023-11-29T19:48:53.501191Z",
     "shell.execute_reply.started": "2023-11-29T19:45:46.196504Z"
    },
    "papermill": {
     "duration": 1.208201,
     "end_time": "2023-11-29T19:48:53.501425",
     "exception": false,
     "start_time": "2023-11-29T19:48:52.293224",
     "status": "completed"
    },
    "tags": []
   },
   "outputs": [
    {
     "name": "stdout",
     "output_type": "stream",
     "text": [
      "Checking results after applying K-means Clustering Analysis \n",
      "\n",
      "Crops in First Cluster: ['rice' 'pigeonpeas' 'papaya' 'coconut' 'jute' 'coffee']\n",
      "---------------------------------------------------------------\n",
      "Crops in Second Cluster: ['maize' 'chickpea' 'kidneybeans' 'pigeonpeas' 'mothbeans' 'mungbean'\n",
      " 'blackgram' 'lentil' 'pomegranate' 'mango' 'orange' 'papaya' 'coconut']\n",
      "---------------------------------------------------------------\n",
      "Crops in Third Cluster: ['grapes' 'apple']\n",
      "---------------------------------------------------------------\n",
      "Crops in Forth Cluster: ['maize' 'banana' 'watermelon' 'muskmelon' 'papaya' 'cotton' 'coffee']\n"
     ]
    }
   ],
   "source": [
    "#Implementing K-means Algorithm to perform Clustering Analysis\n",
    "km = KMeans(n_clusters = 4,init = 'k-means++',max_iter = 300, n_init = 10, random_state = 0)\n",
    "y_means = km.fit_predict(x)\n",
    "\n",
    "#Lets find out results\n",
    "a = data['label']\n",
    "y_means = pd.DataFrame(y_means)\n",
    "z = pd.concat([y_means, a],axis = 1)\n",
    "z = z.rename(columns = {0: 'cluster'})\n",
    "\n",
    "#Checking Clusters of Each crop\n",
    "print(\"Checking results after applying K-means Clustering Analysis \\n\")\n",
    "print(\"Crops in First Cluster:\", z[z['cluster'] == 0]['label'].unique())\n",
    "print(\"---------------------------------------------------------------\")\n",
    "print(\"Crops in Second Cluster:\", z[z['cluster'] == 1]['label'].unique())\n",
    "print(\"---------------------------------------------------------------\")\n",
    "print(\"Crops in Third Cluster:\", z[z['cluster'] == 2]['label'].unique())\n",
    "print(\"---------------------------------------------------------------\")\n",
    "print(\"Crops in Forth Cluster:\", z[z['cluster'] == 3]['label'].unique())"
   ]
  },
  {
   "cell_type": "markdown",
   "id": "ea70a50f",
   "metadata": {
    "papermill": {
     "duration": 0.049468,
     "end_time": "2023-11-29T19:48:53.606343",
     "exception": false,
     "start_time": "2023-11-29T19:48:53.556875",
     "status": "completed"
    },
    "tags": []
   },
   "source": [
    "# 4.Predictive Modelling"
   ]
  },
  {
   "cell_type": "code",
   "execution_count": 17,
   "id": "14ddafbf",
   "metadata": {
    "execution": {
     "iopub.execute_input": "2023-11-29T19:48:53.720262Z",
     "iopub.status.busy": "2023-11-29T19:48:53.719265Z",
     "iopub.status.idle": "2023-11-29T19:48:53.724396Z",
     "shell.execute_reply": "2023-11-29T19:48:53.720967Z",
     "shell.execute_reply.started": "2023-11-29T19:45:48.551970Z"
    },
    "papermill": {
     "duration": 0.066193,
     "end_time": "2023-11-29T19:48:53.724668",
     "exception": false,
     "start_time": "2023-11-29T19:48:53.658475",
     "status": "completed"
    },
    "tags": []
   },
   "outputs": [
    {
     "name": "stdout",
     "output_type": "stream",
     "text": [
      "Shape of x: (2200, 7)\n",
      "Shape of y: (2200,)\n"
     ]
    }
   ],
   "source": [
    "#Splitting dataset for Predictive Modelling\n",
    "y = data['label']\n",
    "x = data.drop(['label'],axis = 1)\n",
    "\n",
    "print(\"Shape of x:\", x.shape)\n",
    "print(\"Shape of y:\", y.shape)"
   ]
  },
  {
   "cell_type": "code",
   "execution_count": 18,
   "id": "85fa2dcb",
   "metadata": {
    "execution": {
     "iopub.execute_input": "2023-11-29T19:48:53.847035Z",
     "iopub.status.busy": "2023-11-29T19:48:53.845821Z",
     "iopub.status.idle": "2023-11-29T19:48:53.852015Z",
     "shell.execute_reply": "2023-11-29T19:48:53.852661Z",
     "shell.execute_reply.started": "2023-11-29T19:45:48.573665Z"
    },
    "papermill": {
     "duration": 0.07341,
     "end_time": "2023-11-29T19:48:53.852880",
     "exception": false,
     "start_time": "2023-11-29T19:48:53.779470",
     "status": "completed"
    },
    "tags": []
   },
   "outputs": [
    {
     "name": "stdout",
     "output_type": "stream",
     "text": [
      "The shape of x train: (1760, 7)\n",
      "The shape of x test: (440, 7)\n",
      "The shape of y train: (1760,)\n",
      "The shape of y test: (440,)\n"
     ]
    }
   ],
   "source": [
    "#Training and Testing Sets for Validation of Results\n",
    "x_train,x_test,y_train,y_test = train_test_split(x,y,test_size = 0.2,random_state = 0)\n",
    "\n",
    "print(\"The shape of x train:\", x_train.shape)\n",
    "print(\"The shape of x test:\", x_test.shape)\n",
    "print(\"The shape of y train:\", y_train.shape)\n",
    "print(\"The shape of y test:\", y_test.shape)"
   ]
  },
  {
   "cell_type": "code",
   "execution_count": 19,
   "id": "0dccfb6f",
   "metadata": {
    "execution": {
     "iopub.execute_input": "2023-11-29T19:48:53.978969Z",
     "iopub.status.busy": "2023-11-29T19:48:53.978158Z",
     "iopub.status.idle": "2023-11-29T19:48:54.248515Z",
     "shell.execute_reply": "2023-11-29T19:48:54.249175Z",
     "shell.execute_reply.started": "2023-11-29T19:45:48.598515Z"
    },
    "papermill": {
     "duration": 0.341806,
     "end_time": "2023-11-29T19:48:54.249399",
     "exception": false,
     "start_time": "2023-11-29T19:48:53.907593",
     "status": "completed"
    },
    "tags": []
   },
   "outputs": [],
   "source": [
    "#Creating a Predictive model\n",
    "model = LogisticRegression(solver='liblinear')\n",
    "model.fit(x_train, y_train)\n",
    "y_pred = model.predict(x_test)"
   ]
  },
  {
   "cell_type": "code",
   "execution_count": 20,
   "id": "c4a63246",
   "metadata": {
    "execution": {
     "iopub.execute_input": "2023-11-29T19:48:54.370125Z",
     "iopub.status.busy": "2023-11-29T19:48:54.369304Z",
     "iopub.status.idle": "2023-11-29T19:48:56.572031Z",
     "shell.execute_reply": "2023-11-29T19:48:56.571255Z",
     "shell.execute_reply.started": "2023-11-29T19:45:48.874112Z"
    },
    "papermill": {
     "duration": 2.268541,
     "end_time": "2023-11-29T19:48:56.572211",
     "exception": false,
     "start_time": "2023-11-29T19:48:54.303670",
     "status": "completed"
    },
    "tags": []
   },
   "outputs": [
    {
     "data": {
      "image/png": "[encoded data removed]",
      "text/plain": [
       "<Figure size 720x720 with 2 Axes>"
      ]
     },
     "metadata": {
      "needs_background": "light"
     },
     "output_type": "display_data"
    }
   ],
   "source": [
    "#Evaluating Model Performance by using confusion matrix\n",
    "plt.rcParams['figure.figsize'] = [10,10]\n",
    "cm = confusion_matrix(y_test, y_pred)\n",
    "sns.heatmap(cm, annot = True, cmap = 'Wistia')\n",
    "plt.title('Confusion Matrix for Logistic Regression', fontsize=15)\n",
    "plt.show()"
   ]
  },
  {
   "cell_type": "code",
   "execution_count": 21,
   "id": "02d4eb8c",
   "metadata": {
    "execution": {
     "iopub.execute_input": "2023-11-29T19:48:56.686731Z",
     "iopub.status.busy": "2023-11-29T19:48:56.685923Z",
     "iopub.status.idle": "2023-11-29T19:48:56.707670Z",
     "shell.execute_reply": "2023-11-29T19:48:56.708289Z",
     "shell.execute_reply.started": "2023-11-29T19:45:51.026776Z"
    },
    "papermill": {
     "duration": 0.086294,
     "end_time": "2023-11-29T19:48:56.708487",
     "exception": false,
     "start_time": "2023-11-29T19:48:56.622193",
     "status": "completed"
    },
    "tags": []
   },
   "outputs": [
    {
     "name": "stdout",
     "output_type": "stream",
     "text": [
      "              precision    recall  f1-score   support\n",
      "\n",
      "       apple       1.00      1.00      1.00        18\n",
      "      banana       1.00      0.94      0.97        18\n",
      "   blackgram       0.88      1.00      0.94        22\n",
      "    chickpea       1.00      1.00      1.00        23\n",
      "     coconut       1.00      1.00      1.00        15\n",
      "      coffee       1.00      1.00      1.00        17\n",
      "      cotton       0.89      1.00      0.94        16\n",
      "      grapes       1.00      1.00      1.00        18\n",
      "        jute       0.86      0.86      0.86        21\n",
      " kidneybeans       0.95      1.00      0.98        20\n",
      "      lentil       1.00      0.88      0.94        17\n",
      "       maize       1.00      0.89      0.94        18\n",
      "       mango       1.00      1.00      1.00        21\n",
      "   mothbeans       1.00      0.84      0.91        25\n",
      "    mungbean       0.94      1.00      0.97        17\n",
      "   muskmelon       1.00      1.00      1.00        23\n",
      "      orange       1.00      1.00      1.00        23\n",
      "      papaya       0.87      0.95      0.91        21\n",
      "  pigeonpeas       0.95      0.95      0.95        22\n",
      " pomegranate       1.00      1.00      1.00        23\n",
      "        rice       0.88      0.88      0.88        25\n",
      "  watermelon       1.00      1.00      1.00        17\n",
      "\n",
      "    accuracy                           0.96       440\n",
      "   macro avg       0.96      0.96      0.96       440\n",
      "weighted avg       0.96      0.96      0.96       440\n",
      "\n"
     ]
    }
   ],
   "source": [
    "#Printing Classification Report\n",
    "cr = classification_report(y_test, y_pred)\n",
    "print(cr)"
   ]
  },
  {
   "cell_type": "markdown",
   "id": "794b0651",
   "metadata": {
    "papermill": {
     "duration": 0.048256,
     "end_time": "2023-11-29T19:48:56.803442",
     "exception": false,
     "start_time": "2023-11-29T19:48:56.755186",
     "status": "completed"
    },
    "tags": []
   },
   "source": [
    "### All 22 classes we have high precision and recall values which shows that our Predictive model works very well."
   ]
  },
  {
   "cell_type": "code",
   "execution_count": 22,
   "id": "565e961e",
   "metadata": {
    "execution": {
     "iopub.execute_input": "2023-11-29T19:48:56.904701Z",
     "iopub.status.busy": "2023-11-29T19:48:56.903632Z",
     "iopub.status.idle": "2023-11-29T19:48:56.920787Z",
     "shell.execute_reply": "2023-11-29T19:48:56.921332Z",
     "shell.execute_reply.started": "2023-11-29T19:45:51.056948Z"
    },
    "papermill": {
     "duration": 0.069839,
     "end_time": "2023-11-29T19:48:56.921533",
     "exception": false,
     "start_time": "2023-11-29T19:48:56.851694",
     "status": "completed"
    },
    "tags": []
   },
   "outputs": [
    {
     "data": {
      "text/html": [
       "<div>\n",
       "<style scoped>\n",
       "    .dataframe tbody tr th:only-of-type {\n",
       "        vertical-align: middle;\n",
       "    }\n",
       "\n",
       "    .dataframe tbody tr th {\n",
       "        vertical-align: top;\n",
       "    }\n",
       "\n",
       "    .dataframe thead th {\n",
       "        text-align: right;\n",
       "    }\n",
       "</style>\n",
       "<table border=\"1\" class=\"dataframe\">\n",
       "  <thead>\n",
       "    <tr style=\"text-align: right;\">\n",
       "      <th></th>\n",
       "      <th>N</th>\n",
       "      <th>P</th>\n",
       "      <th>K</th>\n",
       "      <th>temperature</th>\n",
       "      <th>humidity</th>\n",
       "      <th>ph</th>\n",
       "      <th>rainfall</th>\n",
       "      <th>label</th>\n",
       "    </tr>\n",
       "  </thead>\n",
       "  <tbody>\n",
       "    <tr>\n",
       "      <th>0</th>\n",
       "      <td>90</td>\n",
       "      <td>42</td>\n",
       "      <td>43</td>\n",
       "      <td>20.879744</td>\n",
       "      <td>82.002744</td>\n",
       "      <td>6.502985</td>\n",
       "      <td>202.935536</td>\n",
       "      <td>rice</td>\n",
       "    </tr>\n",
       "    <tr>\n",
       "      <th>1</th>\n",
       "      <td>85</td>\n",
       "      <td>58</td>\n",
       "      <td>41</td>\n",
       "      <td>21.770462</td>\n",
       "      <td>80.319644</td>\n",
       "      <td>7.038096</td>\n",
       "      <td>226.655537</td>\n",
       "      <td>rice</td>\n",
       "    </tr>\n",
       "    <tr>\n",
       "      <th>2</th>\n",
       "      <td>60</td>\n",
       "      <td>55</td>\n",
       "      <td>44</td>\n",
       "      <td>23.004459</td>\n",
       "      <td>82.320763</td>\n",
       "      <td>7.840207</td>\n",
       "      <td>263.964248</td>\n",
       "      <td>rice</td>\n",
       "    </tr>\n",
       "    <tr>\n",
       "      <th>3</th>\n",
       "      <td>74</td>\n",
       "      <td>35</td>\n",
       "      <td>40</td>\n",
       "      <td>26.491096</td>\n",
       "      <td>80.158363</td>\n",
       "      <td>6.980401</td>\n",
       "      <td>242.864034</td>\n",
       "      <td>rice</td>\n",
       "    </tr>\n",
       "    <tr>\n",
       "      <th>4</th>\n",
       "      <td>78</td>\n",
       "      <td>42</td>\n",
       "      <td>42</td>\n",
       "      <td>20.130175</td>\n",
       "      <td>81.604873</td>\n",
       "      <td>7.628473</td>\n",
       "      <td>262.717340</td>\n",
       "      <td>rice</td>\n",
       "    </tr>\n",
       "  </tbody>\n",
       "</table>\n",
       "</div>"
      ],
      "text/plain": [
       "    N   P   K  temperature   humidity        ph    rainfall label\n",
       "0  90  42  43    20.879744  82.002744  6.502985  202.935536  rice\n",
       "1  85  58  41    21.770462  80.319644  7.038096  226.655537  rice\n",
       "2  60  55  44    23.004459  82.320763  7.840207  263.964248  rice\n",
       "3  74  35  40    26.491096  80.158363  6.980401  242.864034  rice\n",
       "4  78  42  42    20.130175  81.604873  7.628473  262.717340  rice"
      ]
     },
     "execution_count": 22,
     "metadata": {},
     "output_type": "execute_result"
    }
   ],
   "source": [
    "# Model is ready, now use the model to predict the Crop name\n",
    "data.head()"
   ]
  },
  {
   "cell_type": "code",
   "execution_count": 23,
   "id": "21fbdfb0",
   "metadata": {
    "execution": {
     "iopub.execute_input": "2023-11-29T19:48:57.029070Z",
     "iopub.status.busy": "2023-11-29T19:48:57.027900Z",
     "iopub.status.idle": "2023-11-29T19:48:57.037024Z",
     "shell.execute_reply": "2023-11-29T19:48:57.037707Z",
     "shell.execute_reply.started": "2023-11-29T19:45:51.078781Z"
    },
    "papermill": {
     "duration": 0.065123,
     "end_time": "2023-11-29T19:48:57.037918",
     "exception": false,
     "start_time": "2023-11-29T19:48:56.972795",
     "status": "completed"
    },
    "tags": []
   },
   "outputs": [
    {
     "name": "stdout",
     "output_type": "stream",
     "text": [
      "The suggested Crop for Given Climatic condition is : ['rice']\n"
     ]
    }
   ],
   "source": [
    "prediction = model.predict((np.array([[90,\n",
    "                                       40,\n",
    "                                       40,\n",
    "                                       20,\n",
    "                                       80,\n",
    "                                       7,\n",
    "                                       200]])))\n",
    "print(\"The suggested Crop for Given Climatic condition is :\", prediction)"
   ]
  },
  {
   "cell_type": "markdown",
   "id": "c2f92917",
   "metadata": {
    "papermill": {
     "duration": 0.049853,
     "end_time": "2023-11-29T19:48:57.136794",
     "exception": false,
     "start_time": "2023-11-29T19:48:57.086941",
     "status": "completed"
    },
    "tags": []
   },
   "source": [
    "# Change input values."
   ]
  },
  {
   "cell_type": "code",
   "execution_count": 24,
   "id": "acde7642",
   "metadata": {
    "execution": {
     "iopub.execute_input": "2023-11-29T19:48:57.243886Z",
     "iopub.status.busy": "2023-11-29T19:48:57.242667Z",
     "iopub.status.idle": "2023-11-29T19:48:57.266628Z",
     "shell.execute_reply": "2023-11-29T19:48:57.265885Z",
     "shell.execute_reply.started": "2023-11-29T19:45:51.090015Z"
    },
    "papermill": {
     "duration": 0.080368,
     "end_time": "2023-11-29T19:48:57.266875",
     "exception": false,
     "start_time": "2023-11-29T19:48:57.186507",
     "status": "completed"
    },
    "tags": []
   },
   "outputs": [
    {
     "data": {
      "text/html": [
       "<div>\n",
       "<style scoped>\n",
       "    .dataframe tbody tr th:only-of-type {\n",
       "        vertical-align: middle;\n",
       "    }\n",
       "\n",
       "    .dataframe tbody tr th {\n",
       "        vertical-align: top;\n",
       "    }\n",
       "\n",
       "    .dataframe thead th {\n",
       "        text-align: right;\n",
       "    }\n",
       "</style>\n",
       "<table border=\"1\" class=\"dataframe\">\n",
       "  <thead>\n",
       "    <tr style=\"text-align: right;\">\n",
       "      <th></th>\n",
       "      <th>N</th>\n",
       "      <th>P</th>\n",
       "      <th>K</th>\n",
       "      <th>temperature</th>\n",
       "      <th>humidity</th>\n",
       "      <th>ph</th>\n",
       "      <th>rainfall</th>\n",
       "      <th>label</th>\n",
       "    </tr>\n",
       "  </thead>\n",
       "  <tbody>\n",
       "    <tr>\n",
       "      <th>2195</th>\n",
       "      <td>107</td>\n",
       "      <td>34</td>\n",
       "      <td>32</td>\n",
       "      <td>26.774637</td>\n",
       "      <td>66.413269</td>\n",
       "      <td>6.780064</td>\n",
       "      <td>177.774507</td>\n",
       "      <td>coffee</td>\n",
       "    </tr>\n",
       "    <tr>\n",
       "      <th>2196</th>\n",
       "      <td>99</td>\n",
       "      <td>15</td>\n",
       "      <td>27</td>\n",
       "      <td>27.417112</td>\n",
       "      <td>56.636362</td>\n",
       "      <td>6.086922</td>\n",
       "      <td>127.924610</td>\n",
       "      <td>coffee</td>\n",
       "    </tr>\n",
       "    <tr>\n",
       "      <th>2197</th>\n",
       "      <td>118</td>\n",
       "      <td>33</td>\n",
       "      <td>30</td>\n",
       "      <td>24.131797</td>\n",
       "      <td>67.225123</td>\n",
       "      <td>6.362608</td>\n",
       "      <td>173.322839</td>\n",
       "      <td>coffee</td>\n",
       "    </tr>\n",
       "    <tr>\n",
       "      <th>2198</th>\n",
       "      <td>117</td>\n",
       "      <td>32</td>\n",
       "      <td>34</td>\n",
       "      <td>26.272418</td>\n",
       "      <td>52.127394</td>\n",
       "      <td>6.758793</td>\n",
       "      <td>127.175293</td>\n",
       "      <td>coffee</td>\n",
       "    </tr>\n",
       "    <tr>\n",
       "      <th>2199</th>\n",
       "      <td>104</td>\n",
       "      <td>18</td>\n",
       "      <td>30</td>\n",
       "      <td>23.603016</td>\n",
       "      <td>60.396475</td>\n",
       "      <td>6.779833</td>\n",
       "      <td>140.937041</td>\n",
       "      <td>coffee</td>\n",
       "    </tr>\n",
       "  </tbody>\n",
       "</table>\n",
       "</div>"
      ],
      "text/plain": [
       "        N   P   K  temperature   humidity        ph    rainfall   label\n",
       "2195  107  34  32    26.774637  66.413269  6.780064  177.774507  coffee\n",
       "2196   99  15  27    27.417112  56.636362  6.086922  127.924610  coffee\n",
       "2197  118  33  30    24.131797  67.225123  6.362608  173.322839  coffee\n",
       "2198  117  32  34    26.272418  52.127394  6.758793  127.175293  coffee\n",
       "2199  104  18  30    23.603016  60.396475  6.779833  140.937041  coffee"
      ]
     },
     "execution_count": 24,
     "metadata": {},
     "output_type": "execute_result"
    }
   ],
   "source": [
    "data.tail()"
   ]
  },
  {
   "cell_type": "code",
   "execution_count": 25,
   "id": "bca12ba9",
   "metadata": {
    "execution": {
     "iopub.execute_input": "2023-11-29T19:48:57.375972Z",
     "iopub.status.busy": "2023-11-29T19:48:57.375138Z",
     "iopub.status.idle": "2023-11-29T19:48:57.384927Z",
     "shell.execute_reply": "2023-11-29T19:48:57.385498Z",
     "shell.execute_reply.started": "2023-11-29T19:45:51.111875Z"
    },
    "papermill": {
     "duration": 0.065672,
     "end_time": "2023-11-29T19:48:57.385716",
     "exception": false,
     "start_time": "2023-11-29T19:48:57.320044",
     "status": "completed"
    },
    "tags": []
   },
   "outputs": [
    {
     "name": "stdout",
     "output_type": "stream",
     "text": [
      "The suggested Crop for Given Climatic condition is : ['coffee']\n"
     ]
    }
   ],
   "source": [
    "prediction = model.predict((np.array([[107,\n",
    "                                       34,\n",
    "                                       32,\n",
    "                                       26,\n",
    "                                       66,\n",
    "                                       7,\n",
    "                                       180]])))\n",
    "print(\"The suggested Crop for Given Climatic condition is :\", prediction)"
   ]
  }
 ],
 "metadata": {
  "kaggle": {
   "accelerator": "none",
   "dataSources": [
    {
     "datasetId": 4082165,
     "sourceId": 7085163,
     "sourceType": "datasetVersion"
    }
   ],
   "dockerImageVersionId": 30120,
   "isGpuEnabled": false,
   "isInternetEnabled": false,
   "language": "python",
   "sourceType": "notebook"
  },
  "kernelspec": {
   "display_name": "Python 3",
   "language": "python",
   "name": "python3"
  },
  "language_info": {
   "codemirror_mode": {
    "name": "ipython",
    "version": 3
   },
   "file_extension": ".py",
   "mimetype": "text/x-python",
   "name": "python",
   "nbconvert_exporter": "python",
   "pygments_lexer": "ipython3",
   "version": "3.7.10"
  },
  "papermill": {
   "default_parameters": {},
   "duration": 45.080457,
   "end_time": "2023-11-29T19:48:58.839312",
   "environment_variables": {},
   "exception": null,
   "input_path": "__notebook__.ipynb",
   "output_path": "__notebook__.ipynb",
   "parameters": {},
   "start_time": "2023-11-29T19:48:13.758855",
   "version": "2.3.3"
  },
  "widgets": {
   "application/vnd.jupyter.widget-state+json": {
    "state": {
     "008fb11f97da4fb99427d2a5be90f24f": {
      "model_module": "@jupyter-widgets/output",
      "model_module_version": "1.0.0",
      "model_name": "OutputModel",
      "state": {
       "_dom_classes": [],
       "_model_module": "@jupyter-widgets/output",
       "_model_module_version": "1.0.0",
       "_model_name": "OutputModel",
       "_view_count": null,
       "_view_module": "@jupyter-widgets/output",
       "_view_module_version": "1.0.0",
       "_view_name": "OutputView",
       "layout": "IPY_MODEL_62d8b589cbb042289fa51b5057dfc76f",
       "msg_id": "",
       "outputs": [
        {
         "name": "stdout",
         "output_type": "stream",
         "text": "-------------------------------------------------\nStatistics for Nitrogen :\nMinimum Nitrogen Required : 100\nAverage Nitrogen Required : 117.77\nMaximum Nitrogen Required : 140\n-------------------------------------------------\nStatistics for Phosphorous :\nMinimum Phosphorous Required : 35\nAverage Phosphorous Required : 46.24\nMaximum Phosphorous Required : 60\n-------------------------------------------------\nStatistics for Potassium :\nMinimum Potassium Required : 15\nAverage Potassium Required : 19.56\nMaximum Potassium Required : 25\n-------------------------------------------------\nStatistics for Temperature :\nMinimum Temperature Required :  22.00\nAverage Temperature Required :  23.99\nMaximum Temperature Required :  25.99\n-------------------------------------------------\nStatistics for Humidity :\nMinimum Humidity Required :  75.01\nAverage Humidity Required :  79.84\nMaximum Humidity Required :  84.88\n-------------------------------------------------\nStatistics for PH :\nMinimum PH Required :  5.80\nAverage PH Required :  6.91\nMaximum PH Required :  7.99\n-------------------------------------------------\nStatistics for Rainfall :\nMinimum Rainfall Required :  60.65\nAverage Rainfall Required :  80.40\nMaximum Rainfall Required :  99.93\n-------------------------------------------------\n"
        }
       ]
      }
     },
     "018e37ca48d54edbafd5523da0c70e9c": {
      "model_module": "@jupyter-widgets/base",
      "model_module_version": "1.2.0",
      "model_name": "LayoutModel",
      "state": {
       "_model_module": "@jupyter-widgets/base",
       "_model_module_version": "1.2.0",
       "_model_name": "LayoutModel",
       "_view_count": null,
       "_view_module": "@jupyter-widgets/base",
       "_view_module_version": "1.2.0",
       "_view_name": "LayoutView",
       "align_content": null,
       "align_items": null,
       "align_self": null,
       "border": null,
       "bottom": null,
       "display": null,
       "flex": null,
       "flex_flow": null,
       "grid_area": null,
       "grid_auto_columns": null,
       "grid_auto_flow": null,
       "grid_auto_rows": null,
       "grid_column": null,
       "grid_gap": null,
       "grid_row": null,
       "grid_template_areas": null,
       "grid_template_columns": null,
       "grid_template_rows": null,
       "height": null,
       "justify_content": null,
       "justify_items": null,
       "left": null,
       "margin": null,
       "max_height": null,
       "max_width": null,
       "min_height": null,
       "min_width": null,
       "object_fit": null,
       "object_position": null,
       "order": null,
       "overflow": null,
       "overflow_x": null,
       "overflow_y": null,
       "padding": null,
       "right": null,
       "top": null,
       "visibility": null,
       "width": null
      }
     },
     "085890da767e43aa863e0230d193aa5a": {
      "model_module": "@jupyter-widgets/controls",
      "model_module_version": "1.5.0",
      "model_name": "VBoxModel",
      "state": {
       "_dom_classes": [
        "widget-interact"
       ],
       "_model_module": "@jupyter-widgets/controls",
       "_model_module_version": "1.5.0",
       "_model_name": "VBoxModel",
       "_view_count": null,
       "_view_module": "@jupyter-widgets/controls",
       "_view_module_version": "1.5.0",
       "_view_name": "VBoxView",
       "box_style": "",
       "children": [
        "IPY_MODEL_815da3b349e342d994ad79efbbd3ced9",
        "IPY_MODEL_008fb11f97da4fb99427d2a5be90f24f"
       ],
       "layout": "IPY_MODEL_fc6c7f1ef0854e639d6ce5f1abcc7835"
      }
     },
     "2fde8e0cc92d469d8853ff39a066f628": {
      "model_module": "@jupyter-widgets/controls",
      "model_module_version": "1.5.0",
      "model_name": "DropdownModel",
      "state": {
       "_dom_classes": [],
       "_model_module": "@jupyter-widgets/controls",
       "_model_module_version": "1.5.0",
       "_model_name": "DropdownModel",
       "_options_labels": [
        "N",
        "P",
        "K",
        "temperature",
        "ph",
        "humidity",
        "rainfall"
       ],
       "_view_count": null,
       "_view_module": "@jupyter-widgets/controls",
       "_view_module_version": "1.5.0",
       "_view_name": "DropdownView",
       "description": "conditions",
       "description_tooltip": null,
       "disabled": false,
       "index": 0,
       "layout": "IPY_MODEL_fa4f79cb2e0d4c33be040ae50e51ecbe",
       "style": "IPY_MODEL_9e2f9f369bff456f846b004f1d149c13"
      }
     },
     "4732eca7c4ab453da43a7387d0dfa6fe": {
      "model_module": "@jupyter-widgets/output",
      "model_module_version": "1.0.0",
      "model_name": "OutputModel",
      "state": {
       "_dom_classes": [],
       "_model_module": "@jupyter-widgets/output",
       "_model_module_version": "1.0.0",
       "_model_name": "OutputModel",
       "_view_count": null,
       "_view_module": "@jupyter-widgets/output",
       "_view_module_version": "1.0.0",
       "_view_name": "OutputView",
       "layout": "IPY_MODEL_60c24ed5488143548b982a1dc48a1641",
       "msg_id": "",
       "outputs": [
        {
         "name": "stdout",
         "output_type": "stream",
         "text": "Crops which require greater than average N \n\n['rice' 'maize' 'chickpea' 'blackgram' 'banana' 'watermelon' 'muskmelon'\n 'papaya' 'cotton' 'jute' 'coffee']\n-------------------------------------------------------\nCrops which require less than average N \n\n['chickpea' 'kidneybeans' 'pigeonpeas' 'mothbeans' 'mungbean' 'blackgram'\n 'lentil' 'pomegranate' 'mango' 'grapes' 'apple' 'orange' 'papaya'\n 'coconut']\n"
        }
       ]
      }
     },
     "5b4e2f9852264f0d94c4bbbbaf0a6ecf": {
      "model_module": "@jupyter-widgets/controls",
      "model_module_version": "1.5.0",
      "model_name": "VBoxModel",
      "state": {
       "_dom_classes": [
        "widget-interact"
       ],
       "_model_module": "@jupyter-widgets/controls",
       "_model_module_version": "1.5.0",
       "_model_name": "VBoxModel",
       "_view_count": null,
       "_view_module": "@jupyter-widgets/controls",
       "_view_module_version": "1.5.0",
       "_view_name": "VBoxView",
       "box_style": "",
       "children": [
        "IPY_MODEL_e7483b3bcf53471cae7c48db2744b915",
        "IPY_MODEL_4732eca7c4ab453da43a7387d0dfa6fe"
       ],
       "layout": "IPY_MODEL_8d404561b1c94da4b1de4c44f28e5374"
      }
     },
     "60c24ed5488143548b982a1dc48a1641": {
      "model_module": "@jupyter-widgets/base",
      "model_module_version": "1.2.0",
      "model_name": "LayoutModel",
      "state": {
       "_model_module": "@jupyter-widgets/base",
       "_model_module_version": "1.2.0",
       "_model_name": "LayoutModel",
       "_view_count": null,
       "_view_module": "@jupyter-widgets/base",
       "_view_module_version": "1.2.0",
       "_view_name": "LayoutView",
       "align_content": null,
       "align_items": null,
       "align_self": null,
       "border": null,
       "bottom": null,
       "display": null,
       "flex": null,
       "flex_flow": null,
       "grid_area": null,
       "grid_auto_columns": null,
       "grid_auto_flow": null,
       "grid_auto_rows": null,
       "grid_column": null,
       "grid_gap": null,
       "grid_row": null,
       "grid_template_areas": null,
       "grid_template_columns": null,
       "grid_template_rows": null,
       "height": null,
       "justify_content": null,
       "justify_items": null,
       "left": null,
       "margin": null,
       "max_height": null,
       "max_width": null,
       "min_height": null,
       "min_width": null,
       "object_fit": null,
       "object_position": null,
       "order": null,
       "overflow": null,
       "overflow_x": null,
       "overflow_y": null,
       "padding": null,
       "right": null,
       "top": null,
       "visibility": null,
       "width": null
      }
     },
     "62d8b589cbb042289fa51b5057dfc76f": {
      "model_module": "@jupyter-widgets/base",
      "model_module_version": "1.2.0",
      "model_name": "LayoutModel",
      "state": {
       "_model_module": "@jupyter-widgets/base",
       "_model_module_version": "1.2.0",
       "_model_name": "LayoutModel",
       "_view_count": null,
       "_view_module": "@jupyter-widgets/base",
       "_view_module_version": "1.2.0",
       "_view_name": "LayoutView",
       "align_content": null,
       "align_items": null,
       "align_self": null,
       "border": null,
       "bottom": null,
       "display": null,
       "flex": null,
       "flex_flow": null,
       "grid_area": null,
       "grid_auto_columns": null,
       "grid_auto_flow": null,
       "grid_auto_rows": null,
       "grid_column": null,
       "grid_gap": null,
       "grid_row": null,
       "grid_template_areas": null,
       "grid_template_columns": null,
       "grid_template_rows": null,
       "height": null,
       "justify_content": null,
       "justify_items": null,
       "left": null,
       "margin": null,
       "max_height": null,
       "max_width": null,
       "min_height": null,
       "min_width": null,
       "object_fit": null,
       "object_position": null,
       "order": null,
       "overflow": null,
       "overflow_x": null,
       "overflow_y": null,
       "padding": null,
       "right": null,
       "top": null,
       "visibility": null,
       "width": null
      }
     },
     "815da3b349e342d994ad79efbbd3ced9": {
      "model_module": "@jupyter-widgets/controls",
      "model_module_version": "1.5.0",
      "model_name": "DropdownModel",
      "state": {
       "_dom_classes": [],
       "_model_module": "@jupyter-widgets/controls",
       "_model_module_version": "1.5.0",
       "_model_name": "DropdownModel",
       "_options_labels": [
        "cotton",
        "apple",
        "kidneybeans",
        "banana",
        "jute",
        "coffee",
        "coconut",
        "papaya",
        "mango",
        "mungbean",
        "grapes",
        "pigeonpeas",
        "chickpea",
        "mothbeans",
        "pomegranate",
        "orange",
        "rice",
        "blackgram",
        "muskmelon",
        "maize",
        "watermelon",
        "lentil"
       ],
       "_view_count": null,
       "_view_module": "@jupyter-widgets/controls",
       "_view_module_version": "1.5.0",
       "_view_name": "DropdownView",
       "description": "crops",
       "description_tooltip": null,
       "disabled": false,
       "index": 0,
       "layout": "IPY_MODEL_ecb02c486fbb4190af18770ed77dfb72",
       "style": "IPY_MODEL_b5c2cdbdb6104105b9bc4144110bd801"
      }
     },
     "8d404561b1c94da4b1de4c44f28e5374": {
      "model_module": "@jupyter-widgets/base",
      "model_module_version": "1.2.0",
      "model_name": "LayoutModel",
      "state": {
       "_model_module": "@jupyter-widgets/base",
       "_model_module_version": "1.2.0",
       "_model_name": "LayoutModel",
       "_view_count": null,
       "_view_module": "@jupyter-widgets/base",
       "_view_module_version": "1.2.0",
       "_view_name": "LayoutView",
       "align_content": null,
       "align_items": null,
       "align_self": null,
       "border": null,
       "bottom": null,
       "display": null,
       "flex": null,
       "flex_flow": null,
       "grid_area": null,
       "grid_auto_columns": null,
       "grid_auto_flow": null,
       "grid_auto_rows": null,
       "grid_column": null,
       "grid_gap": null,
       "grid_row": null,
       "grid_template_areas": null,
       "grid_template_columns": null,
       "grid_template_rows": null,
       "height": null,
       "justify_content": null,
       "justify_items": null,
       "left": null,
       "margin": null,
       "max_height": null,
       "max_width": null,
       "min_height": null,
       "min_width": null,
       "object_fit": null,
       "object_position": null,
       "order": null,
       "overflow": null,
       "overflow_x": null,
       "overflow_y": null,
       "padding": null,
       "right": null,
       "top": null,
       "visibility": null,
       "width": null
      }
     },
     "9e2f9f369bff456f846b004f1d149c13": {
      "model_module": "@jupyter-widgets/controls",
      "model_module_version": "1.5.0",
      "model_name": "DescriptionStyleModel",
      "state": {
       "_model_module": "@jupyter-widgets/controls",
       "_model_module_version": "1.5.0",
       "_model_name": "DescriptionStyleModel",
       "_view_count": null,
       "_view_module": "@jupyter-widgets/base",
       "_view_module_version": "1.2.0",
       "_view_name": "StyleView",
       "description_width": ""
      }
     },
     "a239f16ea11149d8baf0dcc4c3ddf585": {
      "model_module": "@jupyter-widgets/output",
      "model_module_version": "1.0.0",
      "model_name": "OutputModel",
      "state": {
       "_dom_classes": [],
       "_model_module": "@jupyter-widgets/output",
       "_model_module_version": "1.0.0",
       "_model_name": "OutputModel",
       "_view_count": null,
       "_view_module": "@jupyter-widgets/output",
       "_view_module_version": "1.0.0",
       "_view_name": "OutputView",
       "layout": "IPY_MODEL_018e37ca48d54edbafd5523da0c70e9c",
       "msg_id": "",
       "outputs": [
        {
         "name": "stdout",
         "output_type": "stream",
         "text": "Average Value for N is  50.55\n----------------------------------------------------------------\nRice :  79.89\nBlack Grams :  40.02\nBanana :  100.23\nJute :  78.40\nCoconut :  21.98\nApple :  20.80\nPapaya :  49.88\nMuskmelon :  100.32\nGrapes :  23.18\nWatermelon :  99.42\nKedney Beans :  20.75\nMung Beans :  20.99\nOranges :  19.58\nChick Peas :  40.09\nLentils :  18.77\nCotton :  117.77\nMaize :  77.76\nMoth Beans :  21.44\nPigeon peas :  20.73\nMango :  20.07\nPomegrante :  nan\nCoffee :  101.20\n"
        }
       ]
      }
     },
     "b3c25428f26d45038c48cfa797bb2eee": {
      "model_module": "@jupyter-widgets/controls",
      "model_module_version": "1.5.0",
      "model_name": "DescriptionStyleModel",
      "state": {
       "_model_module": "@jupyter-widgets/controls",
       "_model_module_version": "1.5.0",
       "_model_name": "DescriptionStyleModel",
       "_view_count": null,
       "_view_module": "@jupyter-widgets/base",
       "_view_module_version": "1.2.0",
       "_view_name": "StyleView",
       "description_width": ""
      }
     },
     "b5b848a426e8491f96b313d4e5e27c16": {
      "model_module": "@jupyter-widgets/base",
      "model_module_version": "1.2.0",
      "model_name": "LayoutModel",
      "state": {
       "_model_module": "@jupyter-widgets/base",
       "_model_module_version": "1.2.0",
       "_model_name": "LayoutModel",
       "_view_count": null,
       "_view_module": "@jupyter-widgets/base",
       "_view_module_version": "1.2.0",
       "_view_name": "LayoutView",
       "align_content": null,
       "align_items": null,
       "align_self": null,
       "border": null,
       "bottom": null,
       "display": null,
       "flex": null,
       "flex_flow": null,
       "grid_area": null,
       "grid_auto_columns": null,
       "grid_auto_flow": null,
       "grid_auto_rows": null,
       "grid_column": null,
       "grid_gap": null,
       "grid_row": null,
       "grid_template_areas": null,
       "grid_template_columns": null,
       "grid_template_rows": null,
       "height": null,
       "justify_content": null,
       "justify_items": null,
       "left": null,
       "margin": null,
       "max_height": null,
       "max_width": null,
       "min_height": null,
       "min_width": null,
       "object_fit": null,
       "object_position": null,
       "order": null,
       "overflow": null,
       "overflow_x": null,
       "overflow_y": null,
       "padding": null,
       "right": null,
       "top": null,
       "visibility": null,
       "width": null
      }
     },
     "b5c2cdbdb6104105b9bc4144110bd801": {
      "model_module": "@jupyter-widgets/controls",
      "model_module_version": "1.5.0",
      "model_name": "DescriptionStyleModel",
      "state": {
       "_model_module": "@jupyter-widgets/controls",
       "_model_module_version": "1.5.0",
       "_model_name": "DescriptionStyleModel",
       "_view_count": null,
       "_view_module": "@jupyter-widgets/base",
       "_view_module_version": "1.2.0",
       "_view_name": "StyleView",
       "description_width": ""
      }
     },
     "e7483b3bcf53471cae7c48db2744b915": {
      "model_module": "@jupyter-widgets/controls",
      "model_module_version": "1.5.0",
      "model_name": "DropdownModel",
      "state": {
       "_dom_classes": [],
       "_model_module": "@jupyter-widgets/controls",
       "_model_module_version": "1.5.0",
       "_model_name": "DropdownModel",
       "_options_labels": [
        "N",
        "P",
        "K",
        "temperature",
        "ph",
        "humidity",
        "rainfall"
       ],
       "_view_count": null,
       "_view_module": "@jupyter-widgets/controls",
       "_view_module_version": "1.5.0",
       "_view_name": "DropdownView",
       "description": "conditions",
       "description_tooltip": null,
       "disabled": false,
       "index": 0,
       "layout": "IPY_MODEL_ea7431e31618410592bc865d55ffbf74",
       "style": "IPY_MODEL_b3c25428f26d45038c48cfa797bb2eee"
      }
     },
     "ea7431e31618410592bc865d55ffbf74": {
      "model_module": "@jupyter-widgets/base",
      "model_module_version": "1.2.0",
      "model_name": "LayoutModel",
      "state": {
       "_model_module": "@jupyter-widgets/base",
       "_model_module_version": "1.2.0",
       "_model_name": "LayoutModel",
       "_view_count": null,
       "_view_module": "@jupyter-widgets/base",
       "_view_module_version": "1.2.0",
       "_view_name": "LayoutView",
       "align_content": null,
       "align_items": null,
       "align_self": null,
       "border": null,
       "bottom": null,
       "display": null,
       "flex": null,
       "flex_flow": null,
       "grid_area": null,
       "grid_auto_columns": null,
       "grid_auto_flow": null,
       "grid_auto_rows": null,
       "grid_column": null,
       "grid_gap": null,
       "grid_row": null,
       "grid_template_areas": null,
       "grid_template_columns": null,
       "grid_template_rows": null,
       "height": null,
       "justify_content": null,
       "justify_items": null,
       "left": null,
       "margin": null,
       "max_height": null,
       "max_width": null,
       "min_height": null,
       "min_width": null,
       "object_fit": null,
       "object_position": null,
       "order": null,
       "overflow": null,
       "overflow_x": null,
       "overflow_y": null,
       "padding": null,
       "right": null,
       "top": null,
       "visibility": null,
       "width": null
      }
     },
     "ecb02c486fbb4190af18770ed77dfb72": {
      "model_module": "@jupyter-widgets/base",
      "model_module_version": "1.2.0",
      "model_name": "LayoutModel",
      "state": {
       "_model_module": "@jupyter-widgets/base",
       "_model_module_version": "1.2.0",
       "_model_name": "LayoutModel",
       "_view_count": null,
       "_view_module": "@jupyter-widgets/base",
       "_view_module_version": "1.2.0",
       "_view_name": "LayoutView",
       "align_content": null,
       "align_items": null,
       "align_self": null,
       "border": null,
       "bottom": null,
       "display": null,
       "flex": null,
       "flex_flow": null,
       "grid_area": null,
       "grid_auto_columns": null,
       "grid_auto_flow": null,
       "grid_auto_rows": null,
       "grid_column": null,
       "grid_gap": null,
       "grid_row": null,
       "grid_template_areas": null,
       "grid_template_columns": null,
       "grid_template_rows": null,
       "height": null,
       "justify_content": null,
       "justify_items": null,
       "left": null,
       "margin": null,
       "max_height": null,
       "max_width": null,
       "min_height": null,
       "min_width": null,
       "object_fit": null,
       "object_position": null,
       "order": null,
       "overflow": null,
       "overflow_x": null,
       "overflow_y": null,
       "padding": null,
       "right": null,
       "top": null,
       "visibility": null,
       "width": null
      }
     },
     "f7686f444611418badc371c3f858bb0f": {
      "model_module": "@jupyter-widgets/controls",
      "model_module_version": "1.5.0",
      "model_name": "VBoxModel",
      "state": {
       "_dom_classes": [
        "widget-interact"
       ],
       "_model_module": "@jupyter-widgets/controls",
       "_model_module_version": "1.5.0",
       "_model_name": "VBoxModel",
       "_view_count": null,
       "_view_module": "@jupyter-widgets/controls",
       "_view_module_version": "1.5.0",
       "_view_name": "VBoxView",
       "box_style": "",
       "children": [
        "IPY_MODEL_2fde8e0cc92d469d8853ff39a066f628",
        "IPY_MODEL_a239f16ea11149d8baf0dcc4c3ddf585"
       ],
       "layout": "IPY_MODEL_b5b848a426e8491f96b313d4e5e27c16"
      }
     },
     "fa4f79cb2e0d4c33be040ae50e51ecbe": {
      "model_module": "@jupyter-widgets/base",
      "model_module_version": "1.2.0",
      "model_name": "LayoutModel",
      "state": {
       "_model_module": "@jupyter-widgets/base",
       "_model_module_version": "1.2.0",
       "_model_name": "LayoutModel",
       "_view_count": null,
       "_view_module": "@jupyter-widgets/base",
       "_view_module_version": "1.2.0",
       "_view_name": "LayoutView",
       "align_content": null,
       "align_items": null,
       "align_self": null,
       "border": null,
       "bottom": null,
       "display": null,
       "flex": null,
       "flex_flow": null,
       "grid_area": null,
       "grid_auto_columns": null,
       "grid_auto_flow": null,
       "grid_auto_rows": null,
       "grid_column": null,
       "grid_gap": null,
       "grid_row": null,
       "grid_template_areas": null,
       "grid_template_columns": null,
       "grid_template_rows": null,
       "height": null,
       "justify_content": null,
       "justify_items": null,
       "left": null,
       "margin": null,
       "max_height": null,
       "max_width": null,
       "min_height": null,
       "min_width": null,
       "object_fit": null,
       "object_position": null,
       "order": null,
       "overflow": null,
       "overflow_x": null,
       "overflow_y": null,
       "padding": null,
       "right": null,
       "top": null,
       "visibility": null,
       "width": null
      }
     },
     "fc6c7f1ef0854e639d6ce5f1abcc7835": {
      "model_module": "@jupyter-widgets/base",
      "model_module_version": "1.2.0",
      "model_name": "LayoutModel",
      "state": {
       "_model_module": "@jupyter-widgets/base",
       "_model_module_version": "1.2.0",
       "_model_name": "LayoutModel",
       "_view_count": null,
       "_view_module": "@jupyter-widgets/base",
       "_view_module_version": "1.2.0",
       "_view_name": "LayoutView",
       "align_content": null,
       "align_items": null,
       "align_self": null,
       "border": null,
       "bottom": null,
       "display": null,
       "flex": null,
       "flex_flow": null,
       "grid_area": null,
       "grid_auto_columns": null,
       "grid_auto_flow": null,
       "grid_auto_rows": null,
       "grid_column": null,
       "grid_gap": null,
       "grid_row": null,
       "grid_template_areas": null,
       "grid_template_columns": null,
       "grid_template_rows": null,
       "height": null,
       "justify_content": null,
       "justify_items": null,
       "left": null,
       "margin": null,
       "max_height": null,
       "max_width": null,
       "min_height": null,
       "min_width": null,
       "object_fit": null,
       "object_position": null,
       "order": null,
       "overflow": null,
       "overflow_x": null,
       "overflow_y": null,
       "padding": null,
       "right": null,
       "top": null,
       "visibility": null,
       "width": null
      }
     }
    },
    "version_major": 2,
    "version_minor": 0
   }
  }
 },
 "nbformat": 4,
 "nbformat_minor": 5
}
